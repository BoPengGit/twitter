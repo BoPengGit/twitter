{
  "cells": [
    {
      "cell_type": "markdown",
      "metadata": {
        "id": "view-in-github",
        "colab_type": "text"
      },
      "source": [
        "<a href=\"https://colab.research.google.com/github/BoPengGit/twitter/blob/main/CNA_Hackathon_Twitter_Getting_Started.ipynb\" target=\"_parent\"><img src=\"https://colab.research.google.com/assets/colab-badge.svg\" alt=\"Open In Colab\"/></a>"
      ]
    },
    {
      "cell_type": "markdown",
      "source": [
        "## Getting started code to grab tweets from Twitter API. \n",
        "### Below is an example to grab 10,000 tweets of \"doctor\", \"restaurant\" and \"lawyer\" from twitter. \n",
        "\n",
        "\n",
        "#### Open Notebook in Colab from link above.\n"
      ],
      "metadata": {
        "id": "iugU04jPg3El"
      }
    },
    {
      "cell_type": "code",
      "execution_count": null,
      "metadata": {
        "colab": {
          "base_uri": "https://localhost:8080/"
        },
        "id": "H8L-qa-eSOo3",
        "outputId": "76cb4cb4-0d2b-4e7a-8789-b90c66279a27"
      },
      "outputs": [
        {
          "output_type": "stream",
          "name": "stdout",
          "text": [
            "Looking in indexes: https://pypi.org/simple, https://us-python.pkg.dev/colab-wheels/public/simple/\n",
            "Requirement already satisfied: tweepy in /usr/local/lib/python3.8/dist-packages (3.10.0)\n",
            "Collecting tweepy\n",
            "  Downloading tweepy-4.12.1-py3-none-any.whl (101 kB)\n",
            "\u001b[K     |████████████████████████████████| 101 kB 6.0 MB/s \n",
            "\u001b[?25hCollecting requests<3,>=2.27.0\n",
            "  Downloading requests-2.28.1-py3-none-any.whl (62 kB)\n",
            "\u001b[K     |████████████████████████████████| 62 kB 1.3 MB/s \n",
            "\u001b[?25hRequirement already satisfied: requests-oauthlib<2,>=1.2.0 in /usr/local/lib/python3.8/dist-packages (from tweepy) (1.3.1)\n",
            "Requirement already satisfied: oauthlib<4,>=3.2.0 in /usr/local/lib/python3.8/dist-packages (from tweepy) (3.2.2)\n",
            "Requirement already satisfied: charset-normalizer<3,>=2 in /usr/local/lib/python3.8/dist-packages (from requests<3,>=2.27.0->tweepy) (2.1.1)\n",
            "Requirement already satisfied: idna<4,>=2.5 in /usr/local/lib/python3.8/dist-packages (from requests<3,>=2.27.0->tweepy) (2.10)\n",
            "Requirement already satisfied: certifi>=2017.4.17 in /usr/local/lib/python3.8/dist-packages (from requests<3,>=2.27.0->tweepy) (2022.12.7)\n",
            "Requirement already satisfied: urllib3<1.27,>=1.21.1 in /usr/local/lib/python3.8/dist-packages (from requests<3,>=2.27.0->tweepy) (1.24.3)\n",
            "Installing collected packages: requests, tweepy\n",
            "  Attempting uninstall: requests\n",
            "    Found existing installation: requests 2.23.0\n",
            "    Uninstalling requests-2.23.0:\n",
            "      Successfully uninstalled requests-2.23.0\n",
            "  Attempting uninstall: tweepy\n",
            "    Found existing installation: tweepy 3.10.0\n",
            "    Uninstalling tweepy-3.10.0:\n",
            "      Successfully uninstalled tweepy-3.10.0\n",
            "Successfully installed requests-2.28.1 tweepy-4.12.1\n"
          ]
        }
      ],
      "source": [
        "!pip install tweepy --upgrade"
      ]
    },
    {
      "cell_type": "code",
      "execution_count": null,
      "metadata": {
        "id": "yAjMMfDuT02d"
      },
      "outputs": [],
      "source": [
        "import tweepy\n",
        "\n",
        "# This is my personal bearer_token gotten from developer.twitter.com.\n",
        "bearer_token = 'AAAAAAAAAAAAAAAAAAAAAIb1kwEAAAAAUuHsF0ye1TZ23h%2FPT0zRbKCIpfc%3DzJ7Ka8RgVvuW2WJ9lVV4fZyWPxnaMqEaWGPgD6KH6YBphyRc70'\n",
        "\n",
        "client = tweepy.Client(bearer_token=bearer_token, wait_on_rate_limit=True)"
      ]
    },
    {
      "cell_type": "code",
      "execution_count": null,
      "metadata": {
        "id": "Vhi5LxfgT3Bp"
      },
      "outputs": [],
      "source": [
        "# Replace with your own search query\n",
        "query = 'doctor -is:retweet'\n",
        "\n",
        "# Name and path of the file where you want the Tweets written to\n",
        "file_name = 'doctor_tweets.txt'\n",
        "\n",
        "tweets = tweepy.Paginator(client.search_recent_tweets, query=query, tweet_fields=[\n",
        "                          'context_annotations', 'created_at'], max_results=100).flatten(limit=10000)\n",
        "\n",
        "# Writing the results to a file\n",
        "with open(file_name, 'a', encoding='utf-8') as f:\n",
        "\n",
        "    for count, tweet in enumerate(tweets):\n",
        "        created_time = tweet.created_at.strftime(\"%m/%d/%Y, %H:%M:%S\")\n",
        "        f.write(\n",
        "            f'{count+1}. id: {tweet.id}, time: {created_time}, \\n {tweet.text}\\n\\n')\n"
      ]
    },
    {
      "cell_type": "code",
      "execution_count": null,
      "metadata": {
        "id": "ji8CY3R1ULJE"
      },
      "outputs": [],
      "source": [
        "# Replace with your own search query\n",
        "query = 'restaurant -is:retweet'\n",
        "\n",
        "# Name and path of the file where you want the Tweets written to\n",
        "file_name = 'restaurant_tweets.txt'\n",
        "\n",
        "tweets = tweepy.Paginator(client.search_recent_tweets, query=query, tweet_fields=[\n",
        "                          'context_annotations', 'created_at'], max_results=100).flatten(limit=10000)\n",
        "\n",
        "# Writing the results to a file\n",
        "with open(file_name, 'a', encoding='utf-8') as f:\n",
        "\n",
        "    for count, tweet in enumerate(tweets):\n",
        "        created_time = tweet.created_at.strftime(\"%m/%d/%Y, %H:%M:%S\")\n",
        "        f.write(\n",
        "            f'{count+1}. id: {tweet.id}, time: {created_time}, \\n {tweet.text}\\n\\n')\n"
      ]
    },
    {
      "cell_type": "code",
      "execution_count": null,
      "metadata": {
        "id": "OC43C3APULAz"
      },
      "outputs": [],
      "source": [
        "# Replace with your own search query\n",
        "query = 'lawyer -is:retweet'\n",
        "\n",
        "# Name and path of the file where you want the Tweets written to\n",
        "file_name = 'lawyer_tweets.txt'\n",
        "\n",
        "tweets = tweepy.Paginator(client.search_recent_tweets, query=query, tweet_fields=[\n",
        "                          'context_annotations', 'created_at'], max_results=100).flatten(limit=10000)\n",
        "\n",
        "# Writing the results to a file\n",
        "with open(file_name, 'a', encoding='utf-8') as f:\n",
        "\n",
        "    for count, tweet in enumerate(tweets):\n",
        "        created_time = tweet.created_at.strftime(\"%m/%d/%Y, %H:%M:%S\")\n",
        "        f.write(\n",
        "            f'{count+1}. id: {tweet.id}, time: {created_time}, \\n {tweet.text}\\n\\n')\n"
      ]
    },
    {
      "cell_type": "code",
      "execution_count": null,
      "metadata": {
        "id": "RyoUHriOUJbm"
      },
      "outputs": [],
      "source": []
    }
  ],
  "metadata": {
    "colab": {
      "provenance": [],
      "authorship_tag": "ABX9TyM/2TPNxea5UgXzY1qSOoFL",
      "include_colab_link": true
    },
    "kernelspec": {
      "display_name": "Python 3",
      "name": "python3"
    },
    "language_info": {
      "name": "python"
    }
  },
  "nbformat": 4,
  "nbformat_minor": 0
}